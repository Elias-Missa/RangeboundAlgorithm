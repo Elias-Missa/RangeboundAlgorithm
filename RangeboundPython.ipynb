{
  "cells": [
    {
      "cell_type": "code",
      "execution_count": 86,
      "metadata": {
        "id": "2dsIHd2WEoaS"
      },
      "outputs": [],
      "source": [
        "#TESTING GIT AND GITHUB LETS SEE IF THIS WORKS\n",
        "import pandas as pd\n",
        "import numpy as np\n",
        "import yfinance as yf\n",
        "from datetime import datetime\n",
        "import matplotlib.pyplot as plt\n",
        "import matplotlib.dates as mdates\n",
        "from pandas.tseries.offsets import DateOffset"
      ]
    },
    {
      "cell_type": "code",
      "execution_count": 87,
      "metadata": {},
      "outputs": [],
      "source": [
        "start_date='2010-01-01'\n",
        "Ticker = 'BTC-USD'\n",
        "\n",
        "vol_window = 3 * 365  # 3 years\n",
        "range_window = 60\n",
        "\n",
        "# For Compression Scores\n",
        "compression_vol_filter = 0.25\n",
        "compression_range_filter = 0.05\n",
        "\n",
        "# For Stop Strategy\n",
        "StopMagnitude = 1.5\n",
        "\n",
        "# For Exit Strategy\n",
        "MovingAverage = 50"
      ]
    },
    {
      "cell_type": "markdown",
      "metadata": {},
      "source": [
        "TESTING GITHUB AND GIT LETS SEE IF THIS WORKS LETS SEEEE"
      ]
    },
    {
      "cell_type": "markdown",
      "metadata": {},
      "source": [
        "TESTING WITH FILE SAVE"
      ]
    },
    {
      "cell_type": "code",
      "execution_count": 88,
      "metadata": {
        "colab": {
          "base_uri": "https://localhost:8080/"
        },
        "id": "1Jnft-IGEsS8",
        "outputId": "fd6969d3-a453-46e5-c13e-f60a59c6c20d"
      },
      "outputs": [
        {
          "name": "stderr",
          "output_type": "stream",
          "text": [
            "[*********************100%***********************]  1 of 1 completed"
          ]
        },
        {
          "name": "stdout",
          "output_type": "stream",
          "text": [
            "Downloaded 3891 days of Bitcoin price data\n",
            "Date range: 2014-09-17 to 2025-05-12\n"
          ]
        },
        {
          "name": "stderr",
          "output_type": "stream",
          "text": [
            "\n"
          ]
        }
      ],
      "source": [
        "\n",
        "def GetData(start_date):\n",
        "    \"\"\"Download price data from Yahoo Finance\"\"\"\n",
        "    data = yf.download(Ticker, start=start_date)\n",
        "    # Extract closing prices and remove NA values\n",
        "    data = data['Close'].dropna()\n",
        "    return data\n",
        "\n",
        "# Download the data\n",
        "data = GetData(start_date)\n",
        "print(f\"Downloaded {len(data)} days of Bitcoin price data\")\n",
        "print(f\"Date range: {data.index.min().date()} to {data.index.max().date()}\")"
      ]
    },
    {
      "cell_type": "code",
      "execution_count": 89,
      "metadata": {
        "colab": {
          "base_uri": "https://localhost:8080/",
          "height": 237
        },
        "id": "6vPosp0pIE_l",
        "outputId": "2eb06815-5a6a-4d34-81be-5c8a75b01b58"
      },
      "outputs": [
        {
          "data": {
            "text/html": [
              "<div>\n",
              "<style scoped>\n",
              "    .dataframe tbody tr th:only-of-type {\n",
              "        vertical-align: middle;\n",
              "    }\n",
              "\n",
              "    .dataframe tbody tr th {\n",
              "        vertical-align: top;\n",
              "    }\n",
              "\n",
              "    .dataframe thead th {\n",
              "        text-align: right;\n",
              "    }\n",
              "</style>\n",
              "<table border=\"1\" class=\"dataframe\">\n",
              "  <thead>\n",
              "    <tr style=\"text-align: right;\">\n",
              "      <th>Ticker</th>\n",
              "      <th>BTC-USD</th>\n",
              "    </tr>\n",
              "    <tr>\n",
              "      <th>Date</th>\n",
              "      <th></th>\n",
              "    </tr>\n",
              "  </thead>\n",
              "  <tbody>\n",
              "    <tr>\n",
              "      <th>2025-05-08</th>\n",
              "      <td>103241.460938</td>\n",
              "    </tr>\n",
              "    <tr>\n",
              "      <th>2025-05-09</th>\n",
              "      <td>102970.851562</td>\n",
              "    </tr>\n",
              "    <tr>\n",
              "      <th>2025-05-10</th>\n",
              "      <td>104696.328125</td>\n",
              "    </tr>\n",
              "    <tr>\n",
              "      <th>2025-05-11</th>\n",
              "      <td>104106.359375</td>\n",
              "    </tr>\n",
              "    <tr>\n",
              "      <th>2025-05-12</th>\n",
              "      <td>102932.945312</td>\n",
              "    </tr>\n",
              "  </tbody>\n",
              "</table>\n",
              "</div>"
            ],
            "text/plain": [
              "Ticker            BTC-USD\n",
              "Date                     \n",
              "2025-05-08  103241.460938\n",
              "2025-05-09  102970.851562\n",
              "2025-05-10  104696.328125\n",
              "2025-05-11  104106.359375\n",
              "2025-05-12  102932.945312"
            ]
          },
          "execution_count": 89,
          "metadata": {},
          "output_type": "execute_result"
        }
      ],
      "source": [
        "data.tail()"
      ]
    },
    {
      "cell_type": "code",
      "execution_count": 90,
      "metadata": {
        "colab": {
          "base_uri": "https://localhost:8080/"
        },
        "id": "x9kksl76G6RO",
        "outputId": "9cce12a5-c1a9-4b3c-d690-4baba6a8c0e3"
      },
      "outputs": [
        {
          "name": "stdout",
          "output_type": "stream",
          "text": [
            "First few log returns:\n",
            "Ticker       BTC-USD\n",
            "Date                \n",
            "2014-09-18 -0.074643\n",
            "2014-09-19 -0.072402\n",
            "2014-09-20  0.035111\n",
            "2014-09-21 -0.024968\n",
            "2014-09-22  0.008317\n"
          ]
        }
      ],
      "source": [
        "log_returns = np.log(data / data.shift(1)).dropna()\n",
        "print(f\"First few log returns:\\n{log_returns.head()}\")"
      ]
    },
    {
      "cell_type": "code",
      "execution_count": 91,
      "metadata": {
        "colab": {
          "base_uri": "https://localhost:8080/"
        },
        "id": "ysFJl8lqG_WI",
        "outputId": "590eb3d5-ac3a-4128-89f1-c6a2ad19016d"
      },
      "outputs": [
        {
          "name": "stdout",
          "output_type": "stream",
          "text": [
            "First few rolling volatility values:\n",
            "Ticker       BTC-USD\n",
            "Date                \n",
            "2017-09-16  0.679505\n",
            "2017-09-17  0.678110\n",
            "2017-09-18  0.680540\n",
            "2017-09-19  0.680612\n",
            "2017-09-20  0.680445\n"
          ]
        }
      ],
      "source": [
        "# Step 3: Compute Rolling Annualized Volatility (3-year window = 1095 days)\n",
        "\n",
        "rolling_vol = log_returns.rolling(window=vol_window).std() * np.sqrt(365)\n",
        "rolling_vol = rolling_vol.dropna()\n",
        "print(f\"First few rolling volatility values:\\n{rolling_vol.head()}\")\n",
        "\n"
      ]
    },
    {
      "cell_type": "code",
      "execution_count": 92,
      "metadata": {
        "colab": {
          "base_uri": "https://localhost:8080/"
        },
        "id": "FHlZ605sHCsX",
        "outputId": "6d8199bd-66d7-44ce-d040-ebe145739f8c"
      },
      "outputs": [
        {
          "name": "stdout",
          "output_type": "stream",
          "text": [
            "First few rolling range values:\n",
            "Ticker         BTC-USD\n",
            "Date                  \n",
            "2014-11-15  136.824005\n",
            "2014-11-16  115.280975\n",
            "2014-11-17  115.280975\n",
            "2014-11-18  115.280975\n",
            "2014-11-19  115.280975\n"
          ]
        }
      ],
      "source": [
        "# Step 4: Compute Rolling Actual Range Over 2-Month Windows (~60 days)\n",
        "  # 2 months\n",
        "rolling_range = data.rolling(window=range_window).apply(lambda x: max(x) - min(x), raw=True)\n",
        "rolling_range = rolling_range.dropna()\n",
        "print(f\"First few rolling range values:\\n{rolling_range.head()}\")"
      ]
    },
    {
      "cell_type": "code",
      "execution_count": 93,
      "metadata": {
        "colab": {
          "base_uri": "https://localhost:8080/"
        },
        "id": "xMdAFWphHOcO",
        "outputId": "dabddf3e-898b-4d38-d1a8-9de57316699a"
      },
      "outputs": [
        {
          "name": "stdout",
          "output_type": "stream",
          "text": [
            "First few rolling max-min range values:\n",
            "Ticker          BTC-USD\n",
            "Date                   \n",
            "2017-09-15  4713.906769\n",
            "2017-09-16  4713.906769\n",
            "2017-09-17  4713.906769\n",
            "2017-09-18  4713.906769\n",
            "2017-09-19  4713.906769\n"
          ]
        }
      ],
      "source": [
        "# Step 5: Compute Rolling Max-Min Over 3-Year Window (Price-Based Expected Range)\n",
        "rolling_maxmin_range = data.rolling(window=vol_window).apply(lambda x: max(x) - min(x), raw=True)\n",
        "rolling_maxmin_range = rolling_maxmin_range.dropna()\n",
        "print(f\"First few rolling max-min range values:\\n{rolling_maxmin_range.head()}\")\n"
      ]
    },
    {
      "cell_type": "code",
      "execution_count": 94,
      "metadata": {
        "colab": {
          "base_uri": "https://localhost:8080/"
        },
        "id": "lDq0meILHOkC",
        "outputId": "905d680a-734f-468f-d798-cfff62736024"
      },
      "outputs": [
        {
          "name": "stdout",
          "output_type": "stream",
          "text": [
            "After alignment, we have 2796 data points\n",
            "Date range: 2017-09-16 to 2025-05-12\n"
          ]
        }
      ],
      "source": [
        "# Step 6: Align all series to the same shared date index\n",
        "shared_dates = rolling_vol.index.intersection(rolling_range.index).intersection(rolling_maxmin_range.index)\n",
        "prices = data.loc[shared_dates]\n",
        "rolling_vol = rolling_vol.loc[shared_dates]\n",
        "rolling_range = rolling_range.loc[shared_dates]\n",
        "rolling_maxmin_range = rolling_maxmin_range.loc[shared_dates]\n",
        "\n",
        "# Cell 7: Align all series to the same shared date index\n",
        "\n",
        "print(f\"After alignment, we have {len(shared_dates)} data points\")\n",
        "print(f\"Date range: {shared_dates.min().date()} to {shared_dates.max().date()}\")"
      ]
    },
    {
      "cell_type": "code",
      "execution_count": 95,
      "metadata": {},
      "outputs": [
        {
          "data": {
            "text/plain": [
              "DatetimeIndex(['2017-09-16', '2017-09-17', '2017-09-18', '2017-09-19',\n",
              "               '2017-09-20', '2017-09-21', '2017-09-22', '2017-09-23',\n",
              "               '2017-09-24', '2017-09-25',\n",
              "               ...\n",
              "               '2025-05-03', '2025-05-04', '2025-05-05', '2025-05-06',\n",
              "               '2025-05-07', '2025-05-08', '2025-05-09', '2025-05-10',\n",
              "               '2025-05-11', '2025-05-12'],\n",
              "              dtype='datetime64[ns]', name='Date', length=2796, freq='D')"
            ]
          },
          "execution_count": 95,
          "metadata": {},
          "output_type": "execute_result"
        }
      ],
      "source": [
        "shared_dates"
      ]
    },
    {
      "cell_type": "code",
      "execution_count": 96,
      "metadata": {
        "id": "uvGl8jhKHOnY"
      },
      "outputs": [],
      "source": [
        "# Step 7: Volatility-Based Expected Range and Compression Score\n",
        "z_score = 1  # 68% confidence\n",
        "expected_range_vol = prices * (np.exp(rolling_vol * np.sqrt(range_window / 365) * z_score) -\n",
        "                                 np.exp(-rolling_vol * np.sqrt(range_window / 365) * z_score))"
      ]
    },
    {
      "cell_type": "code",
      "execution_count": 97,
      "metadata": {
        "colab": {
          "base_uri": "https://localhost:8080/"
        },
        "id": "0BEsS6kOHOqc",
        "outputId": "8e67d076-5358-4f4e-e4d2-5e6843a13615"
      },
      "outputs": [
        {
          "name": "stdout",
          "output_type": "stream",
          "text": [
            "First few compression_vol values:\n",
            "Ticker       BTC-USD\n",
            "Date                \n",
            "2017-09-16  1.294558\n",
            "2017-09-17  1.184224\n",
            "2017-09-18  1.039899\n",
            "2017-09-19  1.076935\n",
            "2017-09-20  1.082453\n"
          ]
        }
      ],
      "source": [
        "\n",
        "# Calculate compression score\n",
        "compression_vol = rolling_range / expected_range_vol\n",
        "print(f\"First few compression_vol values:\\n{compression_vol.head()}\")"
      ]
    },
    {
      "cell_type": "code",
      "execution_count": 98,
      "metadata": {
        "colab": {
          "base_uri": "https://localhost:8080/"
        },
        "id": "ekjkfNbiHOxb",
        "outputId": "9e09a9ba-198d-43ad-fb8c-c75ac3ce02cf"
      },
      "outputs": [
        {
          "name": "stdout",
          "output_type": "stream",
          "text": [
            "First few compression_range values:\n",
            "Ticker       BTC-USD\n",
            "Date                \n",
            "2017-09-16  0.555501\n",
            "2017-09-17  0.501189\n",
            "2017-09-18  0.501189\n",
            "2017-09-19  0.501189\n",
            "2017-09-20  0.501189\n"
          ]
        }
      ],
      "source": [
        "# Cell 9: Calculate high-low based compression score\n",
        "# Step 8: High-Low Based Compression Score\n",
        "compression_range = rolling_range / rolling_maxmin_range\n",
        "print(f\"First few compression_range values:\\n{compression_range.head()}\")"
      ]
    },
    {
      "cell_type": "code",
      "execution_count": 99,
      "metadata": {
        "colab": {
          "base_uri": "https://localhost:8080/",
          "height": 572
        },
        "id": "CUndWp3HHiJF",
        "outputId": "ac2b811c-7438-4965-c373-1208bd0c9c7c"
      },
      "outputs": [
        {
          "data": {
            "image/png": "[encoded data removed]",
            "text/plain": [
              "<Figure size 1200x600 with 1 Axes>"
            ]
          },
          "metadata": {},
          "output_type": "display_data"
        }
      ],
      "source": [
        "# Cell 10: Plot both compression scores\n",
        "# Step 9: Plot Both Compression Scores\n",
        "plt.figure(figsize=(12, 6))\n",
        "plt.plot(compression_vol.index, compression_vol.values, color='blue', label='Volatility-Based')\n",
        "plt.plot(compression_range.index, compression_range.values, color='darkgreen', label='High-Low-Based')\n",
        "plt.axhline(y=0.2, color='red', linestyle='--')\n",
        "plt.title('Bitcoin Compression Scores')\n",
        "plt.xlabel('Date')\n",
        "plt.ylabel('Compression Score')\n",
        "plt.legend(loc='upper right')\n",
        "plt.grid(True, alpha=0.3)\n",
        "plt.tight_layout()\n",
        "\n",
        "# Format dates on x-axis for better readability\n",
        "plt.gca().xaxis.set_major_formatter(mdates.DateFormatter('%Y-%m'))\n",
        "plt.gca().xaxis.set_major_locator(mdates.YearLocator())\n",
        "plt.gcf().autofmt_xdate()\n",
        "\n",
        "plt.show()"
      ]
    },
    {
      "cell_type": "code",
      "execution_count": 100,
      "metadata": {},
      "outputs": [
        {
          "data": {
            "text/html": [
              "<div>\n",
              "<style scoped>\n",
              "    .dataframe tbody tr th:only-of-type {\n",
              "        vertical-align: middle;\n",
              "    }\n",
              "\n",
              "    .dataframe tbody tr th {\n",
              "        vertical-align: top;\n",
              "    }\n",
              "\n",
              "    .dataframe thead th {\n",
              "        text-align: right;\n",
              "    }\n",
              "</style>\n",
              "<table border=\"1\" class=\"dataframe\">\n",
              "  <thead>\n",
              "    <tr style=\"text-align: right;\">\n",
              "      <th>Ticker</th>\n",
              "      <th>BTC-USD</th>\n",
              "    </tr>\n",
              "    <tr>\n",
              "      <th>Date</th>\n",
              "      <th></th>\n",
              "    </tr>\n",
              "  </thead>\n",
              "  <tbody>\n",
              "    <tr>\n",
              "      <th>2017-09-16</th>\n",
              "      <td>0.555501</td>\n",
              "    </tr>\n",
              "    <tr>\n",
              "      <th>2017-09-17</th>\n",
              "      <td>0.501189</td>\n",
              "    </tr>\n",
              "    <tr>\n",
              "      <th>2017-09-18</th>\n",
              "      <td>0.501189</td>\n",
              "    </tr>\n",
              "    <tr>\n",
              "      <th>2017-09-19</th>\n",
              "      <td>0.501189</td>\n",
              "    </tr>\n",
              "    <tr>\n",
              "      <th>2017-09-20</th>\n",
              "      <td>0.501189</td>\n",
              "    </tr>\n",
              "  </tbody>\n",
              "</table>\n",
              "</div>"
            ],
            "text/plain": [
              "Ticker       BTC-USD\n",
              "Date                \n",
              "2017-09-16  0.555501\n",
              "2017-09-17  0.501189\n",
              "2017-09-18  0.501189\n",
              "2017-09-19  0.501189\n",
              "2017-09-20  0.501189"
            ]
          },
          "execution_count": 100,
          "metadata": {},
          "output_type": "execute_result"
        }
      ],
      "source": [
        "compression_range.head()"
      ]
    },
    {
      "cell_type": "code",
      "execution_count": 101,
      "metadata": {},
      "outputs": [
        {
          "data": {
            "text/plain": [
              "pandas.core.frame.DataFrame"
            ]
          },
          "execution_count": 101,
          "metadata": {},
          "output_type": "execute_result"
        }
      ],
      "source": [
        "type(compression_vol)"
      ]
    },
    {
      "cell_type": "code",
      "execution_count": 102,
      "metadata": {
        "colab": {
          "base_uri": "https://localhost:8080/",
          "height": 371
        },
        "id": "imYg-HDEHilo",
        "outputId": "4525daad-3d6d-4715-ba27-a6b5f7083c87"
      },
      "outputs": [
        {
          "data": {
            "text/plain": [
              "Condition\n",
              "CompressionRange    64\n",
              "CompressionVol      44\n",
              "Both                16\n",
              "Name: count, dtype: int64"
            ]
          },
          "execution_count": 102,
          "metadata": {},
          "output_type": "execute_result"
        }
      ],
      "source": [
        "# Check if the columns are the same\n",
        "if not compression_vol.columns.equals(compression_range.columns):\n",
        "    raise ValueError(\"compression_vol and compression_range must have the same columns.\")\n",
        "\n",
        "# Identify the indices where the condition is met for each column\n",
        "# Here, we'll assume you want to apply the condition to all columns\n",
        "# If you want to apply it to specific columns, adjust accordingly\n",
        "\n",
        "\n",
        "# For a single column, e.g., 'BTC-USD'\n",
        "condition = (compression_vol[Ticker] < compression_vol_filter) | (compression_range[Ticker] < compression_range_filter)\n",
        "low_dates_idx = np.where(condition)[0]\n",
        "\n",
        "# Extract the dates based on the indices\n",
        "low_dates = compression_vol.index[low_dates_idx]\n",
        "\n",
        "# Create a DataFrame with the filtered data\n",
        "filtered_df = pd.DataFrame({\n",
        "    'date': low_dates,\n",
        "    'compression_vol': compression_vol[Ticker].iloc[low_dates_idx].values,\n",
        "    'compression_range': compression_range[Ticker].iloc[low_dates_idx].values\n",
        "})\n",
        "\n",
        "\n",
        "# If you have multiple columns and want to apply the condition to each column separately, you can do the following:\n",
        "\n",
        "# Example for multiple columns\n",
        "df = filtered_df.copy()\n",
        "\n",
        "def determine_condition(row):\n",
        "    if row['compression_vol'] < compression_vol_filter and row['compression_range'] < compression_range_filter:\n",
        "        return 'Both'\n",
        "    elif row['compression_vol'] < compression_vol_filter:\n",
        "        return 'CompressionVol'\n",
        "    elif row['compression_range'] < compression_range_filter:\n",
        "        return 'CompressionRange'\n",
        "    else:\n",
        "        return 'None'\n",
        "\n",
        "df['Condition'] = df.apply(determine_condition, axis=1)\n",
        "\n",
        "# Print the DataFrame with the new condition column\n",
        "df.head()\n",
        "df['Condition'].value_counts()\n"
      ]
    },
    {
      "cell_type": "code",
      "execution_count": 103,
      "metadata": {},
      "outputs": [
        {
          "data": {
            "text/html": [
              "<div>\n",
              "<style scoped>\n",
              "    .dataframe tbody tr th:only-of-type {\n",
              "        vertical-align: middle;\n",
              "    }\n",
              "\n",
              "    .dataframe tbody tr th {\n",
              "        vertical-align: top;\n",
              "    }\n",
              "\n",
              "    .dataframe thead th {\n",
              "        text-align: right;\n",
              "    }\n",
              "</style>\n",
              "<table border=\"1\" class=\"dataframe\">\n",
              "  <thead>\n",
              "    <tr style=\"text-align: right;\">\n",
              "      <th></th>\n",
              "      <th>date</th>\n",
              "      <th>compression_vol</th>\n",
              "      <th>compression_range</th>\n",
              "      <th>Condition</th>\n",
              "    </tr>\n",
              "  </thead>\n",
              "  <tbody>\n",
              "    <tr>\n",
              "      <th>0</th>\n",
              "      <td>2018-11-03</td>\n",
              "      <td>0.141530</td>\n",
              "      <td>0.029544</td>\n",
              "      <td>Both</td>\n",
              "    </tr>\n",
              "    <tr>\n",
              "      <th>1</th>\n",
              "      <td>2018-11-04</td>\n",
              "      <td>0.126944</td>\n",
              "      <td>0.026528</td>\n",
              "      <td>Both</td>\n",
              "    </tr>\n",
              "    <tr>\n",
              "      <th>2</th>\n",
              "      <td>2018-11-05</td>\n",
              "      <td>0.126126</td>\n",
              "      <td>0.026528</td>\n",
              "      <td>Both</td>\n",
              "    </tr>\n",
              "    <tr>\n",
              "      <th>3</th>\n",
              "      <td>2018-11-06</td>\n",
              "      <td>0.125349</td>\n",
              "      <td>0.026528</td>\n",
              "      <td>Both</td>\n",
              "    </tr>\n",
              "    <tr>\n",
              "      <th>4</th>\n",
              "      <td>2018-11-07</td>\n",
              "      <td>0.116694</td>\n",
              "      <td>0.024951</td>\n",
              "      <td>Both</td>\n",
              "    </tr>\n",
              "  </tbody>\n",
              "</table>\n",
              "</div>"
            ],
            "text/plain": [
              "        date  compression_vol  compression_range Condition\n",
              "0 2018-11-03         0.141530           0.029544      Both\n",
              "1 2018-11-04         0.126944           0.026528      Both\n",
              "2 2018-11-05         0.126126           0.026528      Both\n",
              "3 2018-11-06         0.125349           0.026528      Both\n",
              "4 2018-11-07         0.116694           0.024951      Both"
            ]
          },
          "execution_count": 103,
          "metadata": {},
          "output_type": "execute_result"
        }
      ],
      "source": [
        "pd.set_option('display.max_rows', None)\n",
        "\n",
        "# Set the maximum number of columns to display to None (which means unlimited)\n",
        "pd.set_option('display.max_columns', None)\n",
        "\n",
        "# Optionally, you can also set the width to None to allow unlimited width\n",
        "pd.set_option('display.width', None)\n",
        "\n",
        "df.head()\n"
      ]
    },
    {
      "cell_type": "code",
      "execution_count": 104,
      "metadata": {},
      "outputs": [
        {
          "data": {
            "text/plain": [
              "np.datetime64('2018-11-03T00:00:00.000000000')"
            ]
          },
          "execution_count": 104,
          "metadata": {},
          "output_type": "execute_result"
        }
      ],
      "source": [
        "warning_dates = df['date']\n",
        "warning_dates = np.array(warning_dates)\n",
        "warning_dates[0]"
      ]
    },
    {
      "cell_type": "code",
      "execution_count": 105,
      "metadata": {},
      "outputs": [
        {
          "data": {
            "text/html": [
              "<div>\n",
              "<style scoped>\n",
              "    .dataframe tbody tr th:only-of-type {\n",
              "        vertical-align: middle;\n",
              "    }\n",
              "\n",
              "    .dataframe tbody tr th {\n",
              "        vertical-align: top;\n",
              "    }\n",
              "\n",
              "    .dataframe thead th {\n",
              "        text-align: right;\n",
              "    }\n",
              "</style>\n",
              "<table border=\"1\" class=\"dataframe\">\n",
              "  <thead>\n",
              "    <tr style=\"text-align: right;\">\n",
              "      <th>Ticker</th>\n",
              "      <th>BTC-USD</th>\n",
              "    </tr>\n",
              "    <tr>\n",
              "      <th>Date</th>\n",
              "      <th></th>\n",
              "    </tr>\n",
              "  </thead>\n",
              "  <tbody>\n",
              "    <tr>\n",
              "      <th>2017-09-16</th>\n",
              "      <td>0.053350</td>\n",
              "    </tr>\n",
              "    <tr>\n",
              "      <th>2017-09-17</th>\n",
              "      <td>0.053241</td>\n",
              "    </tr>\n",
              "    <tr>\n",
              "      <th>2017-09-18</th>\n",
              "      <td>0.053432</td>\n",
              "    </tr>\n",
              "    <tr>\n",
              "      <th>2017-09-19</th>\n",
              "      <td>0.053437</td>\n",
              "    </tr>\n",
              "    <tr>\n",
              "      <th>2017-09-20</th>\n",
              "      <td>0.053424</td>\n",
              "    </tr>\n",
              "  </tbody>\n",
              "</table>\n",
              "</div>"
            ],
            "text/plain": [
              "Ticker       BTC-USD\n",
              "Date                \n",
              "2017-09-16  0.053350\n",
              "2017-09-17  0.053241\n",
              "2017-09-18  0.053432\n",
              "2017-09-19  0.053437\n",
              "2017-09-20  0.053424"
            ]
          },
          "execution_count": 105,
          "metadata": {},
          "output_type": "execute_result"
        }
      ],
      "source": [
        "\n",
        "stop_signals = (rolling_vol/np.sqrt(365)) * StopMagnitude\n",
        "stop_signals.head()"
      ]
    },
    {
      "cell_type": "code",
      "execution_count": 106,
      "metadata": {},
      "outputs": [
        {
          "data": {
            "text/html": [
              "<div>\n",
              "<style scoped>\n",
              "    .dataframe tbody tr th:only-of-type {\n",
              "        vertical-align: middle;\n",
              "    }\n",
              "\n",
              "    .dataframe tbody tr th {\n",
              "        vertical-align: top;\n",
              "    }\n",
              "\n",
              "    .dataframe thead th {\n",
              "        text-align: right;\n",
              "    }\n",
              "</style>\n",
              "<table border=\"1\" class=\"dataframe\">\n",
              "  <thead>\n",
              "    <tr style=\"text-align: right;\">\n",
              "      <th>Ticker</th>\n",
              "      <th>BTC-USD</th>\n",
              "      <th>MA_50</th>\n",
              "    </tr>\n",
              "    <tr>\n",
              "      <th>Date</th>\n",
              "      <th></th>\n",
              "      <th></th>\n",
              "    </tr>\n",
              "  </thead>\n",
              "  <tbody>\n",
              "    <tr>\n",
              "      <th>2025-05-08</th>\n",
              "      <td>103241.460938</td>\n",
              "      <td>87756.920313</td>\n",
              "    </tr>\n",
              "    <tr>\n",
              "      <th>2025-05-09</th>\n",
              "      <td>102970.851562</td>\n",
              "      <td>88132.993438</td>\n",
              "    </tr>\n",
              "    <tr>\n",
              "      <th>2025-05-10</th>\n",
              "      <td>104696.328125</td>\n",
              "      <td>88546.055156</td>\n",
              "    </tr>\n",
              "    <tr>\n",
              "      <th>2025-05-11</th>\n",
              "      <td>104106.359375</td>\n",
              "      <td>88951.532656</td>\n",
              "    </tr>\n",
              "    <tr>\n",
              "      <th>2025-05-12</th>\n",
              "      <td>102932.945312</td>\n",
              "      <td>89289.104063</td>\n",
              "    </tr>\n",
              "  </tbody>\n",
              "</table>\n",
              "</div>"
            ],
            "text/plain": [
              "Ticker            BTC-USD         MA_50\n",
              "Date                                   \n",
              "2025-05-08  103241.460938  87756.920313\n",
              "2025-05-09  102970.851562  88132.993438\n",
              "2025-05-10  104696.328125  88546.055156\n",
              "2025-05-11  104106.359375  88951.532656\n",
              "2025-05-12  102932.945312  89289.104063"
            ]
          },
          "execution_count": 106,
          "metadata": {},
          "output_type": "execute_result"
        }
      ],
      "source": [
        "\n",
        "data['MA_50'] = data[Ticker].rolling(window=MovingAverage).mean()\n",
        "\n",
        "data.tail()"
      ]
    },
    {
      "cell_type": "code",
      "execution_count": 107,
      "metadata": {},
      "outputs": [],
      "source": [
        "\n",
        "data=data.dropna()"
      ]
    },
    {
      "cell_type": "code",
      "execution_count": 108,
      "metadata": {},
      "outputs": [
        {
          "data": {
            "text/html": [
              "<div>\n",
              "<style scoped>\n",
              "    .dataframe tbody tr th:only-of-type {\n",
              "        vertical-align: middle;\n",
              "    }\n",
              "\n",
              "    .dataframe tbody tr th {\n",
              "        vertical-align: top;\n",
              "    }\n",
              "\n",
              "    .dataframe thead th {\n",
              "        text-align: right;\n",
              "    }\n",
              "</style>\n",
              "<table border=\"1\" class=\"dataframe\">\n",
              "  <thead>\n",
              "    <tr style=\"text-align: right;\">\n",
              "      <th>Ticker</th>\n",
              "      <th>Close</th>\n",
              "      <th>SMA_50</th>\n",
              "    </tr>\n",
              "    <tr>\n",
              "      <th>Date</th>\n",
              "      <th></th>\n",
              "      <th></th>\n",
              "    </tr>\n",
              "  </thead>\n",
              "  <tbody>\n",
              "    <tr>\n",
              "      <th>2014-11-05</th>\n",
              "      <td>339.485992</td>\n",
              "      <td>372.766840</td>\n",
              "    </tr>\n",
              "    <tr>\n",
              "      <th>2014-11-06</th>\n",
              "      <td>349.290009</td>\n",
              "      <td>370.605960</td>\n",
              "    </tr>\n",
              "    <tr>\n",
              "      <th>2014-11-07</th>\n",
              "      <td>342.415009</td>\n",
              "      <td>368.965460</td>\n",
              "    </tr>\n",
              "    <tr>\n",
              "      <th>2014-11-08</th>\n",
              "      <td>345.488007</td>\n",
              "      <td>367.979301</td>\n",
              "    </tr>\n",
              "    <tr>\n",
              "      <th>2014-11-09</th>\n",
              "      <td>363.264008</td>\n",
              "      <td>367.066501</td>\n",
              "    </tr>\n",
              "  </tbody>\n",
              "</table>\n",
              "</div>"
            ],
            "text/plain": [
              "Ticker           Close      SMA_50\n",
              "Date                              \n",
              "2014-11-05  339.485992  372.766840\n",
              "2014-11-06  349.290009  370.605960\n",
              "2014-11-07  342.415009  368.965460\n",
              "2014-11-08  345.488007  367.979301\n",
              "2014-11-09  363.264008  367.066501"
            ]
          },
          "execution_count": 108,
          "metadata": {},
          "output_type": "execute_result"
        }
      ],
      "source": [
        "\n",
        "data = data.rename(columns={Ticker:'Close'})\n",
        "data = data.rename(columns= {'MA_50':'SMA_50'})\n",
        "data.head()"
      ]
    },
    {
      "cell_type": "markdown",
      "metadata": {},
      "source": [
        "-df has a list of dates that are warning signals saying we are in a tight range. (can be converted just to an array of the dates, the scores arent needed)\n",
        "\n",
        "-Loop through all bitcoin dates, waiting for a warning signal date, once we reach a date, we are now in a range.\n",
        "\n",
        "-Once we are in a range, we stop looking for the warning date signals, now we just look for when the price is going to break ut of the range\n",
        "\n",
        "-The range will be the max and min of the last 60 days (range_window). \n",
        "If price breaks above, we enter our long strategy, if it breaks below, we enter our short strategy. We also have a stop strategy to prevent losses.\n",
        "\n",
        "-Long strategy Exit: Exit when price below 50 day moving average\n",
        "-Short strategy Exit: Exit when price above 50 day moving average\n",
        "-Stop strategy: StopSignal is a dataframe of dates and percents. Once we are in a long strategy, if the price has gone down more than the stop signal, cut our losses and exit, same for short strategy but if it goes up more thna the StopSignal we also exit and cut our losses.  \n",
        "\n",
        "-Once we exit either strategy, we immediatly start looking for a warning signal again to repeat the whole process (start looking the same day as the exit not the day after)\n",
        "\n",
        "-Once the Backtest is complete, seperate statistics will be provided for long strategy and short strategy. \n",
        "-Additionally, make a visulizations that shows the bitcoin chart, and a symbol for when we entered and exited. \n",
        "\n",
        "Statistics will include: Sharpe Ratio, Winning percentage, total return, max drawdown"
      ]
    },
    {
      "cell_type": "code",
      "execution_count": 109,
      "metadata": {
        "id": "ihNLwUBPHiud"
      },
      "outputs": [],
      "source": [
        "# Cell 12: Save results to CSV (optional)\n",
        "# Save the results to a CSV file\n",
        "#filtered_df.to_csv('bitcoin_compression_low_dates.csv', index=False)\n",
        "#print(\"Results saved to 'bitcoin_compression_low_dates.csv'\")"
      ]
    },
    {
      "cell_type": "code",
      "execution_count": 110,
      "metadata": {},
      "outputs": [],
      "source": [
        "class RangeboundBacktest:\n",
        "    def __init__(self, price_data, warning_dates, stop_signals, range_window=60):\n",
        "        self.data = price_data\n",
        "        self.warning_dates = warning_dates\n",
        "        self.stop_signals = stop_signals\n",
        "        self.range_window = range_window\n",
        "        \n",
        "        # Get the price column name\n",
        "        self.price_col = 'Close' if 'Close' in self.data.columns else self.data.columns[0]\n",
        "        \n",
        "        # Initialize state variables\n",
        "        self.in_range = False\n",
        "        self.position = None  # None, 'long', or 'short'\n",
        "        self.entry_price = 0\n",
        "        self.range_high = 0\n",
        "        self.range_low = 0\n",
        "        \n",
        "        # Performance tracking\n",
        "        self.trades = []\n",
        "        self.equity_curve = []\n",
        "        \n",
        "        # Debug counters\n",
        "        self.warning_signals_detected = 0\n",
        "        self.range_entries = 0\n",
        "        self.breakouts_detected = 0\n",
        "        \n",
        "    def run_backtest(self):\n",
        "        print(f\"Starting backtest with {len(self.data)} price points and {len(self.warning_dates)} warning dates\")\n",
        "        print(f\"First few warning dates: {self.warning_dates[:5]}\")\n",
        "        print(f\"First few price dates: {self.data.index[:5]}\")\n",
        "        \n",
        "        # Convert warning dates to the same format as price data index\n",
        "        # This is crucial for date matching\n",
        "        formatted_warning_dates = []\n",
        "        for date in self.warning_dates:\n",
        "            if isinstance(date, str):\n",
        "                formatted_date = pd.to_datetime(date)\n",
        "            elif isinstance(date, pd.Timestamp):\n",
        "                formatted_date = date\n",
        "            else:\n",
        "                formatted_date = pd.Timestamp(date)\n",
        "            formatted_warning_dates.append(formatted_date)\n",
        "        \n",
        "        self.warning_dates = formatted_warning_dates\n",
        "        \n",
        "        # Iterate through each date in the price data\n",
        "        for i, row in self.data.iterrows():\n",
        "            current_date = i  # i is the index, which should be the date\n",
        "            current_price = row[self.price_col]\n",
        "            \n",
        "            # Check if we're not in a range and today is a warning date\n",
        "            if not self.in_range:\n",
        "                # Convert current_date to match warning_dates format if needed\n",
        "                if current_date in self.warning_dates:\n",
        "                    print(f\"Warning signal detected on {current_date}\")\n",
        "                    self.warning_signals_detected += 1\n",
        "                    self.enter_range_mode(current_date)\n",
        "            \n",
        "            # If we're in range mode but have no position, check for breakouts\n",
        "            elif self.in_range and self.position is None:\n",
        "                # Check if price breaks out of the range\n",
        "                if current_price > self.range_high or current_price < self.range_low:\n",
        "                    print(f\"Potential breakout on {current_date}, price: {current_price}, range: [{self.range_low}, {self.range_high}]\\n\")\n",
        "                    \n",
        "                self.check_for_breakout(current_date, current_price)\n",
        "            \n",
        "            # If we have a position, check for exit conditions\n",
        "            elif self.position is not None:\n",
        "                self.check_for_exit(current_date, current_price)\n",
        "        \n",
        "        # Print debug information\n",
        "        print(f\"\\nBacktest completed\")\n",
        "        print(f\"Warning signals detected: {self.warning_signals_detected}\")\n",
        "        print(f\"Range entries: {self.range_entries}\")\n",
        "        print(f\"Breakouts detected: {self.breakouts_detected}\")\n",
        "        print(f\"Total trades: {len([t for t in self.trades if t['type'] == 'exit'])}\")\n",
        "                \n",
        "        # Calculate final performance metrics\n",
        "        return self.calculate_performance()\n",
        "    \n",
        "    def enter_range_mode(self, date):\n",
        "        self.in_range = True\n",
        "        self.range_entries += 1\n",
        "        \n",
        "        # Define range as max and min of last 60 days\n",
        "        past_data = self.data.loc[:date].tail(self.range_window)\n",
        "        self.range_high = past_data[self.price_col].max()\n",
        "        self.range_low = past_data[self.price_col].min()\n",
        "        \n",
        "        print(f\"Entered range mode on {date}: Low={self.range_low}, High={self.range_high}\\n\")\n",
        "    \n",
        "    def check_for_breakout(self, date, price):\n",
        "        # Long entry: price breaks above the range\n",
        "        if price > self.range_high:\n",
        "            self.position = 'long'\n",
        "            self.entry_price = price\n",
        "            self.entry_date = date\n",
        "            self.breakouts_detected += 1\n",
        "            self.trades.append({\n",
        "                'type': 'entry',\n",
        "                'position': 'long',\n",
        "                'date': date,\n",
        "                'price': price\n",
        "            })\n",
        "            print(f\"LONG entry on {date} at {price} (breakout above {self.range_high})\\n\")\n",
        "        \n",
        "        # Short entry: price breaks below the range\n",
        "        elif price < self.range_low:\n",
        "            self.position = 'short'\n",
        "            self.entry_price = price\n",
        "            self.entry_date = date\n",
        "            self.breakouts_detected += 1\n",
        "            self.trades.append({\n",
        "                'type': 'entry',\n",
        "                'position': 'short',\n",
        "                'date': date,\n",
        "                'price': price\n",
        "            })\n",
        "            print(f\"SHORT entry on {date} at {price} (breakout below {self.range_low})\\n\")\n",
        "    \n",
        "    def check_for_exit(self, date, price):\n",
        "        current_row = self.data.loc[date]\n",
        "        \n",
        "        # Get current stop level\n",
        "        stop_level = self.get_stop_level(date)\n",
        "        \n",
        "        exit_reason = None\n",
        "        \n",
        "        # Long exit conditions\n",
        "        if self.position == 'long':\n",
        "            # Exit when price below 50-day MA\n",
        "            if price < current_row['SMA_50']:\n",
        "                exit_reason = 'SMA_exit'\n",
        "            # Stop loss\n",
        "            elif price < self.entry_price * (1 - stop_level):\n",
        "                exit_reason = 'stop_loss'\n",
        "        \n",
        "        # Short exit conditions\n",
        "        elif self.position == 'short':\n",
        "            # Exit when price above 50-day MA\n",
        "            if price > current_row['SMA_50']:\n",
        "                exit_reason = 'SMA_exit'\n",
        "            # Stop loss\n",
        "            elif price > self.entry_price * (1 + stop_level):\n",
        "                exit_reason = 'stop_loss'\n",
        "                \n",
        "        # If we have an exit reason, exit the position\n",
        "        if exit_reason:\n",
        "            self.exit_position(date, price, exit_reason)\n",
        "    \n",
        "    def exit_position(self, date, price, reason):\n",
        "        profit_pct = self.calculate_profit(price)\n",
        "        \n",
        "        self.trades.append({\n",
        "            'type': 'exit',\n",
        "            'position': self.position,\n",
        "            'date': date,\n",
        "            'price': price,\n",
        "            'reason': reason,\n",
        "            'profit_pct': profit_pct\n",
        "        })\n",
        "        \n",
        "        print(f\"EXIT {self.position} on {date} at {price} (reason: {reason}, profit: {profit_pct:.2%})\\n\")\n",
        "        \n",
        "        # Reset position\n",
        "        self.position = None\n",
        "        \n",
        "        # Continue looking for new range signals\n",
        "        self.in_range = False\n",
        "    \n",
        "    def calculate_profit(self, exit_price):\n",
        "        if self.position == 'long':\n",
        "            return (exit_price - self.entry_price) / self.entry_price\n",
        "        elif self.position == 'short':\n",
        "            return (self.entry_price - exit_price) / self.entry_price\n",
        "        return 0\n",
        "    \n",
        "    def get_stop_level(self, date):\n",
        "        # Default stop level\n",
        "        default_stop = 0.05  # 5%\n",
        "        \n",
        "        # If stop_signals is None or empty, return default\n",
        "        if self.stop_signals is None or len(self.stop_signals) == 0:\n",
        "            return default_stop\n",
        "            \n",
        "        try:\n",
        "            # Try to find the appropriate stop level for the current date\n",
        "            if isinstance(self.stop_signals.index, pd.DatetimeIndex):\n",
        "                # Date is the index\n",
        "                stop_row = self.stop_signals.loc[:date].iloc[-1] if not self.stop_signals.loc[:date].empty else None\n",
        "            else:\n",
        "                # Assume there's a 'Date' column\n",
        "                date_col = [col for col in self.stop_signals.columns if 'date' in col.lower()]\n",
        "                if date_col:\n",
        "                    date_column = date_col[0]\n",
        "                    stop_row = self.stop_signals[self.stop_signals[date_column] <= date].iloc[-1] if not self.stop_signals[self.stop_signals[date_column] <= date].empty else None\n",
        "                else:\n",
        "                    return default_stop\n",
        "            \n",
        "            # Get the stop percentage column\n",
        "            stop_percent_col = [col for col in self.stop_signals.columns if 'percent' in col.lower()]\n",
        "            if stop_percent_col and stop_row is not None:\n",
        "                return stop_row[stop_percent_col[0]]\n",
        "            else:\n",
        "                return default_stop\n",
        "        except Exception as e:\n",
        "            print(f\"Error getting stop level: {e}\")\n",
        "            return default_stop\n",
        "    \n",
        "    def calculate_performance(self):\n",
        "        exit_trades = [t for t in self.trades if t['type'] == 'exit']\n",
        "        long_trades = [t for t in exit_trades if t['position'] == 'long']\n",
        "        short_trades = [t for t in exit_trades if t['position'] == 'short']\n",
        "        \n",
        "        return {\n",
        "            'long': self.calculate_metrics(long_trades),\n",
        "            'short': self.calculate_metrics(short_trades),\n",
        "            'overall': self.calculate_metrics(exit_trades)\n",
        "        }\n",
        "    \n",
        "    def calculate_metrics(self, trades):\n",
        "        if not trades:\n",
        "            return {'win_rate': 0, 'total_return': 0, 'sharpe': 0, 'max_drawdown': 0, 'trade_count': 0}\n",
        "        \n",
        "        # Calculate win rate\n",
        "        winning_trades = [t for t in trades if t.get('profit_pct', 0) > 0]\n",
        "        win_rate = len(winning_trades) / len(trades) if trades else 0\n",
        "        \n",
        "        # Calculate returns\n",
        "        profits = [t.get('profit_pct', 0) for t in trades]\n",
        "        total_return = sum(profits)\n",
        "        \n",
        "        # Calculate Sharpe ratio (assuming risk-free rate of 0)\n",
        "        if profits and len(profits) > 1:\n",
        "            sharpe = np.mean(profits) / np.std(profits) * np.sqrt(252) if np.std(profits) > 0 else 0\n",
        "        else:\n",
        "            sharpe = 0\n",
        "        \n",
        "        # Calculate max drawdown\n",
        "        # (this is a simplified approach)\n",
        "        if profits:\n",
        "            cumulative = np.cumprod([1 + p for p in profits])\n",
        "            max_dd = 0\n",
        "            peak = cumulative[0]\n",
        "            for value in cumulative:\n",
        "                if value > peak:\n",
        "                    peak = value\n",
        "                dd = (peak - value) / peak if peak > 0 else 0\n",
        "                max_dd = max(max_dd, dd)\n",
        "        else:\n",
        "            max_dd = 0\n",
        "        \n",
        "        return {\n",
        "            'win_rate': win_rate,\n",
        "            'total_return': total_return,\n",
        "            'sharpe': sharpe,\n",
        "            'max_drawdown': max_dd,\n",
        "            'trade_count': len(trades)\n",
        "        }"
      ]
    },
    {
      "cell_type": "code",
      "execution_count": 111,
      "metadata": {},
      "outputs": [],
      "source": [
        "def visualize_results(data, backtest_results):\n",
        "    # Create a figure\n",
        "    plt.figure(figsize=(15, 10))\n",
        "    \n",
        "    # Plot BTC price\n",
        "    plt.subplot(2, 1, 1)\n",
        "    plt.plot(data.index, data['Close'], label='BTC Price')\n",
        "    \n",
        "    # Plot 50-day MA\n",
        "    plt.plot(data.index, data['SMA_50'], label='50-day MA', alpha=0.7)\n",
        "    \n",
        "    # Plot entry and exit points\n",
        "    entries = [t for t in backtest_results.trades if t['type'] == 'entry']\n",
        "    exits = [t for t in backtest_results.trades if t['type'] == 'exit']\n",
        "    \n",
        "    # Plot long entries\n",
        "    long_entries = [t for t in entries if t['position'] == 'long']\n",
        "    plt.scatter([t['date'] for t in long_entries], \n",
        "                [t['price'] for t in long_entries], \n",
        "                marker='^', color='green', s=100, label='Long Entry')\n",
        "    \n",
        "    # Plot short entries\n",
        "    short_entries = [t for t in entries if t['position'] == 'short']\n",
        "    plt.scatter([t['date'] for t in short_entries], \n",
        "                [t['price'] for t in short_entries], \n",
        "                marker='v', color='red', s=100, label='Short Entry')\n",
        "    \n",
        "    # Plot exits\n",
        "    plt.scatter([t['date'] for t in exits], \n",
        "                [t['price'] for t in exits], \n",
        "                marker='o', color='black', s=80, label='Exit')\n",
        "    \n",
        "    plt.title('Bitcoin Price with Trading Signals')\n",
        "    plt.legend()\n",
        "    plt.grid(True, alpha=0.3)\n",
        "    \n",
        "    # Plot equity curve\n",
        "    plt.subplot(2, 1, 2)\n",
        "    equity_curve = [1 + t.get('profit_pct', 0) for t in backtest_results.trades if 'profit_pct' in t]\n",
        "    equity_curve = np.cumprod(equity_curve)\n",
        "    plt.plot(equity_curve, label='Equity Curve')\n",
        "    plt.title('Strategy Equity Curve')\n",
        "    plt.grid(True, alpha=0.3)\n",
        "    \n",
        "    plt.tight_layout()\n",
        "    plt.show()\n",
        "    \n",
        "    # Print performance metrics\n",
        "    print(\"Performance Summary:\")\n",
        "    print(\"-------------------\")\n",
        "    print(f\"Long Strategy:\")\n",
        "    print(f\"  Win Rate: {backtest_results['long']['win_rate']:.2%}\")\n",
        "    print(f\"  Total Return: {backtest_results['long']['total_return']:.2%}\")\n",
        "    print(f\"  Sharpe Ratio: {backtest_results['long']['sharpe']:.2f}\")\n",
        "    print(f\"  Max Drawdown: {backtest_results['long']['max_drawdown']:.2%}\")\n",
        "    print(f\"  Number of Trades: {backtest_results['long']['trade_count']}\")\n",
        "    print(\"\")\n",
        "    print(f\"Short Strategy:\")\n",
        "    print(f\"  Win Rate: {backtest_results['short']['win_rate']:.2%}\")\n",
        "    print(f\"  Total Return: {backtest_results['short']['total_return']:.2%}\")\n",
        "    print(f\"  Sharpe Ratio: {backtest_results['short']['sharpe']:.2f}\")\n",
        "    print(f\"  Max Drawdown: {backtest_results['short']['max_drawdown']:.2%}\")\n",
        "    print(f\"  Number of Trades: {backtest_results['short']['trade_count']}\")"
      ]
    },
    {
      "cell_type": "code",
      "execution_count": 112,
      "metadata": {},
      "outputs": [
        {
          "name": "stdout",
          "output_type": "stream",
          "text": [
            "Found 124 warning dates\n",
            "Starting backtest with 3842 price points and 124 warning dates\n",
            "First few warning dates: [Timestamp('2018-11-03 00:00:00'), Timestamp('2018-11-04 00:00:00'), Timestamp('2018-11-05 00:00:00'), Timestamp('2018-11-06 00:00:00'), Timestamp('2018-11-07 00:00:00')]\n",
            "First few price dates: DatetimeIndex(['2014-11-05', '2014-11-06', '2014-11-07', '2014-11-08',\n",
            "               '2014-11-09'],\n",
            "              dtype='datetime64[ns]', name='Date', freq=None)\n",
            "Warning signal detected on 2018-11-03 00:00:00\n",
            "Entered range mode on 2018-11-03 00:00:00: Low=6225.97998046875, High=6792.830078125\n",
            "\n",
            "Potential breakout on 2018-11-14 00:00:00, price: 5738.35009765625, range: [6225.97998046875, 6792.830078125]\n",
            "\n",
            "SHORT entry on 2018-11-14 00:00:00 at 5738.35009765625 (breakout below 6225.97998046875)\n",
            "\n",
            "EXIT short on 2019-01-06 00:00:00 at 4076.632568359375 (reason: SMA_exit, profit: 28.96%)\n",
            "\n",
            "Warning signal detected on 2019-01-30 00:00:00\n",
            "Entered range mode on 2019-01-30 00:00:00: Low=3236.76171875, High=4139.8779296875\n",
            "\n",
            "Potential breakout on 2019-02-23 00:00:00, price: 4142.52685546875, range: [3236.76171875, 4139.8779296875]\n",
            "\n",
            "LONG entry on 2019-02-23 00:00:00 at 4142.52685546875 (breakout above 4139.8779296875)\n",
            "\n",
            "EXIT long on 2019-02-24 00:00:00 at 3810.427490234375 (reason: stop_loss, profit: -8.02%)\n",
            "\n",
            "Warning signal detected on 2019-02-25 00:00:00\n",
            "Entered range mode on 2019-02-25 00:00:00: Low=3399.4716796875, High=4142.52685546875\n",
            "\n",
            "Potential breakout on 2019-04-01 00:00:00, price: 4158.18310546875, range: [3399.4716796875, 4142.52685546875]\n",
            "\n",
            "LONG entry on 2019-04-01 00:00:00 at 4158.18310546875 (breakout above 4142.52685546875)\n",
            "\n",
            "EXIT long on 2019-07-16 00:00:00 at 9477.6416015625 (reason: SMA_exit, profit: 127.93%)\n",
            "\n",
            "Warning signal detected on 2020-06-27 00:00:00\n",
            "Entered range mode on 2020-06-27 00:00:00: Low=8601.7958984375, High=10167.2685546875\n",
            "\n",
            "Potential breakout on 2020-07-27 00:00:00, price: 10990.873046875, range: [8601.7958984375, 10167.2685546875]\n",
            "\n",
            "LONG entry on 2020-07-27 00:00:00 at 10990.873046875 (breakout above 10167.2685546875)\n",
            "\n",
            "EXIT long on 2020-09-03 00:00:00 at 10245.296875 (reason: SMA_exit, profit: -6.78%)\n",
            "\n",
            "Warning signal detected on 2020-10-16 00:00:00\n",
            "Entered range mode on 2020-10-16 00:00:00: Low=10131.5166015625, High=11991.2333984375\n",
            "\n",
            "Potential breakout on 2020-10-21 00:00:00, price: 12823.689453125, range: [10131.5166015625, 11991.2333984375]\n",
            "\n",
            "LONG entry on 2020-10-21 00:00:00 at 12823.689453125 (breakout above 11991.2333984375)\n",
            "\n",
            "EXIT long on 2021-04-18 00:00:00 at 56216.18359375 (reason: SMA_exit, profit: 338.38%)\n",
            "\n",
            "Warning signal detected on 2023-01-06 00:00:00\n",
            "Entered range mode on 2023-01-06 00:00:00: Low=15787.2841796875, High=18541.271484375\n",
            "\n",
            "Potential breakout on 2023-01-12 00:00:00, price: 18869.587890625, range: [15787.2841796875, 18541.271484375]\n",
            "\n",
            "LONG entry on 2023-01-12 00:00:00 at 18869.587890625 (breakout above 18541.271484375)\n",
            "\n",
            "EXIT long on 2023-03-03 00:00:00 at 22362.6796875 (reason: SMA_exit, profit: 18.51%)\n",
            "\n",
            "Warning signal detected on 2023-05-15 00:00:00\n",
            "Entered range mode on 2023-05-15 00:00:00: Low=26784.078125, High=30485.69921875\n",
            "\n",
            "Potential breakout on 2023-05-21 00:00:00, price: 26753.826171875, range: [26784.078125, 30485.69921875]\n",
            "\n",
            "SHORT entry on 2023-05-21 00:00:00 at 26753.826171875 (breakout below 26784.078125)\n",
            "\n",
            "EXIT short on 2023-06-20 00:00:00 at 28327.48828125 (reason: SMA_exit, profit: -5.88%)\n",
            "\n",
            "Warning signal detected on 2023-10-14 00:00:00\n",
            "Entered range mode on 2023-10-14 00:00:00: Low=25162.654296875, High=28701.779296875\n",
            "\n",
            "Potential breakout on 2023-10-19 00:00:00, price: 28719.806640625, range: [25162.654296875, 28701.779296875]\n",
            "\n",
            "LONG entry on 2023-10-19 00:00:00 at 28719.806640625 (breakout above 28701.779296875)\n",
            "\n",
            "EXIT long on 2024-01-14 00:00:00 at 41796.26953125 (reason: SMA_exit, profit: 45.53%)\n",
            "\n",
            "\n",
            "Backtest completed\n",
            "Warning signals detected: 8\n",
            "Range entries: 8\n",
            "Breakouts detected: 8\n",
            "Total trades: 8\n"
          ]
        }
      ],
      "source": [
        "def run_backtest():\n",
        "    # Use existing data from the notebook\n",
        "    price_data = data.copy()  # This should be the BTC price data from your notebook\n",
        "    \n",
        "    # Calculate 50-day MA if it doesn't exist\n",
        "    if 'SMA_50' not in price_data.columns:\n",
        "        price_col = 'Close' if 'Close' in price_data.columns else price_data.columns[0]\n",
        "        price_data['SMA_50'] = price_data[price_col].rolling(window=50).mean().dropna()\n",
        "    \n",
        "    # Make sure price_data index is datetime\n",
        "    if not isinstance(price_data.index, pd.DatetimeIndex):\n",
        "        price_data.index = pd.to_datetime(price_data.index)\n",
        "    \n",
        "    # Get warning dates (adjust this based on where your warning dates are stored)\n",
        "    # If filtered_df contains the warning signals:\n",
        "    if 'filtered_df' in globals():\n",
        "        warning_dates = filtered_df['date'].tolist() if 'date' in filtered_df.columns else filtered_df.index.tolist()\n",
        "    else:\n",
        "        # Create a sample set of warning dates based on the condition in the notebook\n",
        "        condition = (compression_vol[Ticker] < 0.25) | (compression_range[Ticker] < 0.05)\n",
        "        warning_dates = compression_vol.index[condition].tolist()\n",
        "    \n",
        "    print(f\"Found {len(warning_dates)} warning dates\")\n",
        "    \n",
        "    # Create stop signal DataFrame if it doesn't exist\n",
        "    \n",
        "    \n",
        "    # Initialize and run backtest\n",
        "    backtest = RangeboundBacktest(\n",
        "        price_data=price_data,\n",
        "        warning_dates=warning_dates,\n",
        "        stop_signals=stop_signals,\n",
        "        range_window=60\n",
        "    )\n",
        "    results = backtest.run_backtest()\n",
        "    \n",
        "    return results, backtest\n",
        "\n",
        "# Run the backtest\n",
        "results, backtest = run_backtest()\n",
        "\n",
        "# Display the results\n"
      ]
    },
    {
      "cell_type": "code",
      "execution_count": 113,
      "metadata": {},
      "outputs": [],
      "source": [
        "def display_results(backtest, results):\n",
        "    \"\"\"\n",
        "    Display and visualize backtest results\n",
        "    \"\"\"\n",
        "    # Print performance metrics\n",
        "    print(\"\\n===== PERFORMANCE SUMMARY =====\\n\")\n",
        "    \n",
        "    print(\"LONG STRATEGY:\")\n",
        "    print(f\"Win Rate: {results['long']['win_rate']:.2%}\")\n",
        "    print(f\"Total Return: {results['long']['total_return']:.2%}\")\n",
        "    print(f\"Sharpe Ratio: {results['long']['sharpe']:.2f}\")\n",
        "    print(f\"Max Drawdown: {results['long']['max_drawdown']:.2%}\")\n",
        "    print(f\"Number of Trades: {results['long']['trade_count']}\")\n",
        "    \n",
        "    print(\"\\nSHORT STRATEGY:\")\n",
        "    print(f\"Win Rate: {results['short']['win_rate']:.2%}\")\n",
        "    print(f\"Total Return: {results['short']['total_return']:.2%}\")\n",
        "    print(f\"Sharpe Ratio: {results['short']['sharpe']:.2f}\")\n",
        "    print(f\"Max Drawdown: {results['short']['max_drawdown']:.2%}\")\n",
        "    print(f\"Number of Trades: {results['short']['trade_count']}\")\n",
        "    \n",
        "    print(\"\\nOVERALL PERFORMANCE:\")\n",
        "    print(f\"Win Rate: {results['overall']['win_rate']:.2%}\")\n",
        "    print(f\"Total Return: {results['overall']['total_return']:.2%}\")\n",
        "    print(f\"Sharpe Ratio: {results['overall']['sharpe']:.2f}\")\n",
        "    print(f\"Max Drawdown: {results['overall']['max_drawdown']:.2%}\")\n",
        "    print(f\"Number of Trades: {results['overall']['trade_count']}\")\n",
        "    \n",
        "    # Visualize the results\n",
        "    import matplotlib.pyplot as plt\n",
        "    import matplotlib.dates as mdates\n",
        "    from matplotlib.dates import DateFormatter\n",
        "    \n",
        "    # Plot the Bitcoin price and trades\n",
        "    fig, (ax1, ax2) = plt.subplots(2, 1, figsize=(15, 12), gridspec_kw={'height_ratios': [3, 1]})\n",
        "    \n",
        "    # Get the price data and column name\n",
        "    price_data = backtest.data\n",
        "    price_col = 'Close' if 'Close' in price_data.columns else price_data.columns[0]\n",
        "    \n",
        "    # Plot Bitcoin price\n",
        "    ax1.plot(price_data.index, price_data[price_col], label='Bitcoin Price', color='blue', alpha=0.7)\n",
        "    ax1.plot(price_data.index, price_data['SMA_50'], label='50-day MA', color='orange', alpha=0.5)\n",
        "    \n",
        "    # Plot trade entries and exits\n",
        "    entry_trades = [t for t in backtest.trades if t['type'] == 'entry']\n",
        "    exit_trades = [t for t in backtest.trades if t['type'] == 'exit']\n",
        "    \n",
        "    # Plot long entries\n",
        "    long_entries = [t for t in entry_trades if t['position'] == 'long']\n",
        "    if long_entries:\n",
        "        entry_dates = [t['date'] for t in long_entries]\n",
        "        entry_prices = [t['price'] for t in long_entries]\n",
        "        ax1.scatter(entry_dates, entry_prices, marker='^', color='green', s=100, label='Long Entry')\n",
        "    \n",
        "    # Plot short entries\n",
        "    short_entries = [t for t in entry_trades if t['position'] == 'short']\n",
        "    if short_entries:\n",
        "        entry_dates = [t['date'] for t in short_entries]\n",
        "        entry_prices = [t['price'] for t in short_entries]\n",
        "        ax1.scatter(entry_dates, entry_prices, marker='v', color='red', s=100, label='Short Entry')\n",
        "    \n",
        "    # Plot exits\n",
        "    if exit_trades:\n",
        "        exit_dates = [t['date'] for t in exit_trades]\n",
        "        exit_prices = [t['price'] for t in exit_trades]\n",
        "        ax1.scatter(exit_dates, exit_prices, marker='o', color='black', s=80, label='Exit')\n",
        "    \n",
        "    # Formatting for the price chart\n",
        "    ax1.set_title('Bitcoin Price with Entry/Exit Points', fontsize=16)\n",
        "    ax1.set_ylabel('Price ($)', fontsize=14)\n",
        "    ax1.legend(loc='best')\n",
        "    ax1.grid(True, alpha=0.3)\n",
        "    \n",
        "    # Plot equity curve\n",
        "    if exit_trades:\n",
        "        profits = [t.get('profit_pct', 0) for t in exit_trades]\n",
        "        cumulative = np.cumprod([1 + p for p in profits])\n",
        "        \n",
        "        # Create an array of dates for the equity curve\n",
        "        dates = [t['date'] for t in exit_trades]\n",
        "        \n",
        "        ax2.plot(dates, cumulative, label='Equity Curve', color='green')\n",
        "        ax2.axhline(y=1, color='r', linestyle='--', alpha=0.5)\n",
        "        ax2.set_title('Strategy Equity Curve', fontsize=16)\n",
        "        ax2.set_ylabel('Equity Growth (starting at 1)', fontsize=14)\n",
        "        ax2.grid(True, alpha=0.3)\n",
        "    \n",
        "    plt.tight_layout()\n",
        "    plt.show()\n",
        "    \n",
        "    # Return a summary dictionary for easy access\n",
        "    return {\n",
        "        'total_trades': results['overall']['trade_count'],\n",
        "        'win_rate': results['overall']['win_rate'],\n",
        "        'total_return': results['overall']['total_return'],\n",
        "        'sharpe': results['overall']['sharpe'],\n",
        "        'max_drawdown': results['overall']['max_drawdown']\n",
        "    }"
      ]
    },
    {
      "cell_type": "code",
      "execution_count": 114,
      "metadata": {},
      "outputs": [
        {
          "name": "stdout",
          "output_type": "stream",
          "text": [
            "\n",
            "===== PERFORMANCE SUMMARY =====\n",
            "\n",
            "LONG STRATEGY:\n",
            "Win Rate: 66.67%\n",
            "Total Return: 515.55%\n",
            "Sharpe Ratio: 11.19\n",
            "Max Drawdown: 6.78%\n",
            "Number of Trades: 6\n",
            "\n",
            "SHORT STRATEGY:\n",
            "Win Rate: 50.00%\n",
            "Total Return: 23.08%\n",
            "Sharpe Ratio: 10.51\n",
            "Max Drawdown: 5.88%\n",
            "Number of Trades: 2\n",
            "\n",
            "OVERALL PERFORMANCE:\n",
            "Win Rate: 62.50%\n",
            "Total Return: 538.62%\n",
            "Sharpe Ratio: 9.66\n",
            "Max Drawdown: 8.02%\n",
            "Number of Trades: 8\n"
          ]
        },
        {
          "data": {
            "image/png": "[encoded data removed]",
            "text/plain": [
              "<Figure size 1500x1200 with 2 Axes>"
            ]
          },
          "metadata": {},
          "output_type": "display_data"
        }
      ],
      "source": [
        "summary = display_results(backtest, results)"
      ]
    },
    {
      "cell_type": "code",
      "execution_count": null,
      "metadata": {},
      "outputs": [],
      "source": []
    }
  ],
  "metadata": {
    "colab": {
      "provenance": []
    },
    "kernelspec": {
      "display_name": "sp500_env",
      "language": "python",
      "name": "python3"
    },
    "language_info": {
      "codemirror_mode": {
        "name": "ipython",
        "version": 3
      },
      "file_extension": ".py",
      "mimetype": "text/x-python",
      "name": "python",
      "nbconvert_exporter": "python",
      "pygments_lexer": "ipython3",
      "version": "3.12.3"
    }
  },
  "nbformat": 4,
  "nbformat_minor": 0
}
